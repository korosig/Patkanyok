{
 "cells": [
  {
   "cell_type": "code",
   "execution_count": null,
   "id": "f8187978-43b5-48ca-be26-26fb56ed3ae3",
   "metadata": {},
   "outputs": [],
   "source": [
    "import pandas as pd\n",
    "import numpy as np\n",
    "import plotly.express as px\n",
    "import plotly.figure_factory as ff\n",
    "import seaborn as sns\n",
    "import matplotlib.pyplot as plt\n",
    "\n",
    "from sklearn.ensemble import RandomForestClassifier\n",
    "from sklearn.tree import DecisionTreeClassifier\n",
    "from sklearn.model_selection import train_test_split, RandomizedSearchCV\n",
    "from sklearn.metrics import confusion_matrix, classification_report\n",
    "from sklearn.pipeline import Pipeline\n",
    "from sklearn.preprocessing import normalize\n",
    "\n",
    "\n",
    "import warnings\n",
    "warnings.filterwarnings(\"ignore\")"
   ]
  },
  {
   "cell_type": "code",
   "execution_count": null,
   "id": "da49f3eb-89f1-4e09-90f2-e8d1793ddce0",
   "metadata": {},
   "outputs": [],
   "source": [
    "params = { \n",
    "    'for_ml' : 'processed/ambitus_0_15_ml_ready_24_07_2025.csv',\n",
    "    'str_cols' : ['Group', 'Gender', 'Season'],\n",
    "    'not_for_ml' : ['Group', 'Gender', 'Season', 'NR', 'Year', 'Paradigm', 'id', 'Generation'],\n",
    "    'not_corr_cols' : ['Group', 'Gender', 'Season', 'NR', 'Year', 'Paradigm', 'id', 'Generation', 'Group'],\n",
    "    'generation_cut' : 13,\n",
    "    'generation_under_cut' : 6,\n",
    "    'seed' : 42\n",
    "}"
   ]
  },
  {
   "cell_type": "code",
   "execution_count": null,
   "id": "060eb663-ee3c-4cca-b7ce-e9682b77b1bf",
   "metadata": {},
   "outputs": [],
   "source": [
    "#Normalizeing the data with each generation separately\n",
    "data_normalized = data.copy()\n",
    "for gen in data['Generation'].unique():\n",
    "    gen_data = data[data['Generation'] == gen]\n",
    "    numeric_cols = [col for col in gen_data.columns if col not in params['not_for_ml'] and gen_data[col].dtype in ['float64', 'int64']]\n",
    "    data_normalized.loc[data['Generation'] == gen, numeric_cols] = normalize(gen_data[numeric_cols])\n",
    "data_normalized"
   ]
  },
  {
   "cell_type": "code",
   "execution_count": null,
   "id": "afe81f86-782a-4fe6-b735-91882aad9be1",
   "metadata": {},
   "outputs": [],
   "source": [
    "#Creating train and test sets for machine learning\n",
    "X_train = data.loc[(data['Generation'] <= params['generation_cut']) & (data['Generation'] > params['generation_under_cut'])].drop(columns=params['not_for_ml'])\n",
    "X_test = data.loc[data['Generation'] > params['generation_cut']].drop(columns=params['not_for_ml'])\n",
    "y_train = data.loc[(data['Generation'] <= params['generation_cut']) & (data['Generation'] > params['generation_under_cut']), 'Group']\n",
    "y_test = data.loc[data['Generation'] > params['generation_cut'], 'Group']"
   ]
  },
  {
   "cell_type": "code",
   "execution_count": null,
   "id": "6b597251-a618-4ee7-8602-33f4d1494ad4",
   "metadata": {},
   "outputs": [],
   "source": [
    "#Plotting label distribution in train and test sets\n",
    "\n",
    "sns.histplot(pd.DataFrame(y_train), x='Group', multiple='dodge', shrink=0.8)\n",
    "plt.title('Distribution of Group at Train Set', fontsize=16)\n",
    "plt.show()\n"
   ]
  },
  {
   "cell_type": "code",
   "execution_count": null,
   "id": "6e6575d1-479c-4235-aaa4-b05738b2a5f3",
   "metadata": {},
   "outputs": [],
   "source": [
    "#Creating pipeline\n",
    "pipeline = Pipeline([('tree', DecisionTreeClassifier(random_state=params['seed'], max_depth=5, min_samples_leaf=6))])\n",
    "pipeline.fit(X_train, y_train)\n",
    "y_pred = pipeline.predict(X_test)\n",
    "print(\"Classification Report:\")\n",
    "print(classification_report(y_test, y_pred))\n",
    "# Plotting the confusion matrix\n",
    "cm = confusion_matrix(y_test, y_pred)\n",
    "\n",
    "\n",
    "sns.heatmap(cm, annot=True)\n",
    "plt.title('Confusion Matrix', fontsize=16)\n",
    "plt.show()"
   ]
  },
  {
   "cell_type": "code",
   "execution_count": null,
   "id": "f781ff5d-5590-4254-8ee2-c905eda88913",
   "metadata": {},
   "outputs": [],
   "source": [
    "#Feature importance from the Decision Tree\n",
    "importances = pipeline.named_steps['tree'].feature_importances_\n",
    "feature_names = X_train.columns\n",
    "importance_df = pd.DataFrame({'Feature': feature_names, 'Importance': importances})\n",
    "importance_df = importance_df.sort_values(by='Importance', ascending=False).loc[importance_df['Importance'] > 0.00001].head(10)  # Filter out low importance features\n",
    "\n",
    "sns.barplot(importance_df, x='Importance', y='Feature', orient='h')\n",
    "plt.title('Feature Importance', fontsize=16)\n",
    "plt.show()\n"
   ]
  }
 ],
 "metadata": {
  "kernelspec": {
   "display_name": "Python [conda env:base] *",
   "language": "python",
   "name": "conda-base-py"
  },
  "language_info": {
   "codemirror_mode": {
    "name": "ipython",
    "version": 3
   },
   "file_extension": ".py",
   "mimetype": "text/x-python",
   "name": "python",
   "nbconvert_exporter": "python",
   "pygments_lexer": "ipython3",
   "version": "3.12.3"
  }
 },
 "nbformat": 4,
 "nbformat_minor": 5
}
